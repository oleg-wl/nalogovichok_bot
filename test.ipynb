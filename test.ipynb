{
 "cells": [
  {
   "cell_type": "code",
   "execution_count": 32,
   "metadata": {},
   "outputs": [],
   "source": [
    "def ndfl(month: int):\n",
    "    # функция для расчета новой прогрессии НДФЛ\n",
    "    def net(g: int, t: float): return g - t\n",
    "\n",
    "    if isinstance(month, int):\n",
    "        gross = month * 12\n",
    "\n",
    "        gross13 = 2400000*0.13\n",
    "        gross15 = 5000000*0.15 - gross13\n",
    "        gross18 = 2000000*0.18 - gross15\n",
    "        gross20 = 50000000*0.20 - gross18\n",
    "        \n",
    "        \n",
    "        if gross <= 2400000:\n",
    "            tax = gross*0.13\n",
    "            net = net(gross, tax) \n",
    "\n",
    "        elif gross > 2400000 and gross <= 5000000:\n",
    "            tax = gross13 + (gross*0.15 - gross13)\n",
    "            net = net(gross, tax)\n",
    "\n",
    "        elif gross > 5000000 and gross <= 20000000:\n",
    "            tax = gross13 + gross15 + (gross*0.18 - gross15 - gross13)\n",
    "            net = net(gross, tax)\n",
    "            \n",
    "        elif gross > 20000000 and gross <= 500000000:\n",
    "            tax = gross13 + gross15 + gross18 + (gross*0.2 - gross13 - gross15 - gross18)\n",
    "            net = net(gross, tax)\n",
    "         \n",
    "        elif gross > 50000000:\n",
    "            tax = gross13 + gross15 + gross18 + gross20 + (gross*0.22 - gross13 - gross15 - gross18 - gross20)\n",
    "            net = net(gross, tax)\n",
    "\n",
    "        return 'Сумма НДФЛ за год: {}. На руки за год ты получишь: {}'.format(round(tax,0), round(net,0))  \n",
    " "
   ]
  },
  {
   "cell_type": "code",
   "execution_count": 33,
   "metadata": {},
   "outputs": [
    {
     "data": {
      "text/plain": [
       "'Сумма НДФЛ за год: 540000.0. На руки за год ты получишь: 3060000.0'"
      ]
     },
     "execution_count": 33,
     "metadata": {},
     "output_type": "execute_result"
    }
   ],
   "source": [
    "ndfl(300000)"
   ]
  }
 ],
 "metadata": {
  "language_info": {
   "name": "python"
  }
 },
 "nbformat": 4,
 "nbformat_minor": 2
}
