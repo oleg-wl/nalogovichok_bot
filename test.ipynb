{
 "cells": [
  {
   "cell_type": "code",
   "execution_count": 25,
   "metadata": {},
   "outputs": [],
   "source": [
    "def ndfl(month: int) -> int:\n",
    "    \"\"\"\n",
    "    функция принимает месячный доход и возвращает соответтсвующий прогрессивный ндфл\n",
    "\n",
    "    :param int month: _description_\n",
    "    :return int: _description_\n",
    "    \"\"\"\n",
    "    def net(g: int, t: float): return g - t\n",
    "\n",
    "    if isinstance(month, int):\n",
    "        income = month * 12 # вся зп\n",
    "\n",
    "        gross13 = 2400000*0.13\n",
    "        gross15 = 2600000*0.15\n",
    "        gross18 = 15000000*0.18\n",
    "        gross20 = 30000000*0.20\n",
    "\n",
    "        if income <= 2400000:\n",
    "            tax = income * 0.13\n",
    "            net = net(income, tax)\n",
    "            rates = '13%'\n",
    "\n",
    "        elif income <= 5000000:\n",
    "            tax = gross13 + (income - 2400000) * 0.15\n",
    "            net = net(income, tax)\n",
    "            rates = '13%, 15%'\n",
    "\n",
    "        elif income <= 20000000:\n",
    "            tax = gross13 + gross15 + (income - 5000000) * 0.18\n",
    "            net = net(income, tax)\n",
    "            rates = '13%, 15%, 18%'\n",
    "\n",
    "        elif income <= 50000000:\n",
    "            tax = gross13 + gross15 + gross18 + (income - 20000000) * 0.20\n",
    "            net = net(income, tax)\n",
    "            rates = '13%, 15%, 18%, 20%'\n",
    "\n",
    "        else:\n",
    "            tax = gross13 + gross15 + gross18 + gross20 + (income - 50000000) * 0.22\n",
    "            net = net(income, tax)\n",
    "            rates = 'так я и поверил'\n",
    "\n",
    "        er = tax / income * 100\n",
    "        \n",
    "        return 'Сумма НДФЛ за год: {0:,.0f}. На руки за год ты получишь: {1:,.0f}\\nНалоговые ставки: {2}\\nЭффективная ставка: {3}%'.format(round(tax,0), round(net,0), rates, round(er, 2)).replace(',',' ')  \n",
    " "
   ]
  },
  {
   "cell_type": "code",
   "execution_count": 26,
   "metadata": {},
   "outputs": [
    {
     "name": "stdout",
     "output_type": "stream",
     "text": [
      "Сумма НДФЛ за год: 31 200. На руки за год ты получишь: 208 800\n",
      "Налоговые ставки: 13%\n",
      "Эффективная ставка: 13.0%\n",
      "---\n",
      "Сумма НДФЛ за год: 492 000. На руки за год ты получишь: 3 108 000\n",
      "Налоговые ставки: 13%  15%\n",
      "Эффективная ставка: 13.67%\n",
      "---\n",
      "Сумма НДФЛ за год: 882 000. На руки за год ты получишь: 5 118 000\n",
      "Налоговые ставки: 13%  15%  18%\n",
      "Эффективная ставка: 14.7%\n",
      "---\n",
      "Сумма НДФЛ за год: 4 202 000. На руки за год ты получишь: 19 798 000\n",
      "Налоговые ставки: 13%  15%  18%  20%\n",
      "Эффективная ставка: 17.51%\n",
      "---\n",
      "Сумма НДФЛ за год: 11 602 000. На руки за год ты получишь: 48 398 000\n",
      "Налоговые ставки: так я и поверил\n",
      "Эффективная ставка: 19.34%\n",
      "---\n"
     ]
    }
   ],
   "source": [
    "for i in [20000, 300000, 500000, 2000000, 5000000]:\n",
    "    print(ndfl(i))\n",
    "    print('---')"
   ]
  }
 ],
 "metadata": {
  "language_info": {
   "name": "python"
  }
 },
 "nbformat": 4,
 "nbformat_minor": 2
}
